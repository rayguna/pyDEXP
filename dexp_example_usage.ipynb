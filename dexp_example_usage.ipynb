{
 "cells": [
  {
   "cell_type": "markdown",
   "id": "a87af27e",
   "metadata": {},
   "source": [
    "### pyDEXP Example Usage"
   ]
  },
  {
   "cell_type": "markdown",
   "id": "acc72e77",
   "metadata": {},
   "source": [
    "Example 1: Generate an experimental design \n",
    "\n",
    "Example 2: Input response and calculate effects\n",
    "\n",
    "Example 3: plot Pareto chart\n",
    "\n",
    "Example 4: perform anova analysis\n",
    "\n",
    "Example 5: perform coded linear regression analysis\n",
    "\n",
    "Example 6: plot one- and two-factor effects\n",
    "\n",
    "Example 7: calculate residuals and predicted values"
   ]
  },
  {
   "cell_type": "markdown",
   "id": "737b78b6",
   "metadata": {},
   "source": [
    "***"
   ]
  },
  {
   "cell_type": "code",
   "execution_count": 1,
   "id": "455a331e",
   "metadata": {},
   "outputs": [],
   "source": [
    "#import statements\n",
    "from pyDEXP.dexp import FullFactorial\n",
    "import matplotlib.pyplot as plt"
   ]
  },
  {
   "cell_type": "markdown",
   "id": "1302f3f6",
   "metadata": {},
   "source": [
    "Example 1: Generate an experimental design"
   ]
  },
  {
   "cell_type": "code",
   "execution_count": 2,
   "id": "72c31c0d",
   "metadata": {},
   "outputs": [
    {
     "name": "stdout",
     "output_type": "stream",
     "text": [
      "   Run       A  B    C  R1\n",
      "0    1   cheap  4   75   0\n",
      "1    2   cheap  4  100   0\n",
      "2    3   cheap  6   75   0\n",
      "3    4   cheap  6  100   0\n",
      "4    5  costly  4   75   0\n",
      "5    6  costly  4  100   0\n",
      "6    7  costly  6   75   0\n",
      "7    8  costly  6  100   0\n",
      "\n",
      "   Run       A  B    C  R1\n",
      "5    6  costly  4  100   0\n",
      "4    5  costly  4   75   0\n",
      "1    2   cheap  4  100   0\n",
      "6    7  costly  6   75   0\n",
      "0    1   cheap  4   75   0\n",
      "2    3   cheap  6   75   0\n",
      "7    8  costly  6  100   0\n",
      "3    4   cheap  6  100   0\n",
      "\n",
      "Please enter the filename to save the design matrix: design_matrix_df1\n",
      "Data has been saved to: design_matrix_df1.csv\n"
     ]
    }
   ],
   "source": [
    "factor_levels = {\n",
    "    'A': ['cheap', 'costly'],\n",
    "    'B': [4, 6],\n",
    "    'C': [75, 100],\n",
    "}\n",
    "\n",
    "no_of_response=1\n",
    "\n",
    "full_factorial = FullFactorial(factor_levels, no_of_response)\n",
    "exp_df = full_factorial.generate_exp_df(\"actual\")\n",
    "\n",
    "# Print the generated pandas DataFrame\n",
    "print(exp_df)\n",
    "print(\"\")\n",
    "\n",
    "# Randomize the order of experiments\n",
    "exp_df_randomize = full_factorial.randomize_order(exp_df)\n",
    "print(exp_df_randomize)\n",
    "print(\"\")\n",
    "\n",
    "#save dataframe to a csv\n",
    "FullFactorial.save_exp_df(exp_df_randomize)"
   ]
  },
  {
   "cell_type": "markdown",
   "id": "b44fc820",
   "metadata": {},
   "source": [
    "Example 2: Input response and calculate effects"
   ]
  },
  {
   "cell_type": "code",
   "execution_count": 3,
   "id": "5ad5210c",
   "metadata": {},
   "outputs": [
    {
     "name": "stdout",
     "output_type": "stream",
     "text": [
      "   Run  A  B  C  AB  AC  BC  ABC  Taste\n",
      "0    1 -1 -1 -1   1   1   1   -1     74\n",
      "1    2 -1 -1  1   1  -1  -1    1     81\n",
      "2    3 -1  1 -1  -1   1  -1    1     71\n",
      "3    4 -1  1  1  -1  -1   1   -1     42\n",
      "4    5  1 -1 -1  -1  -1   1    1     75\n",
      "5    6  1 -1  1  -1   1  -1   -1     77\n",
      "6    7  1  1 -1   1  -1  -1   -1     80\n",
      "7    8  1  1  1   1   1   1    1     32\n",
      "\n",
      "OrderedDict([('Taste', OrderedDict([('A', -1.0), ('B', -20.5), ('C', -17.0), ('AB', 0.5), ('AC', -6.0), ('BC', -21.5), ('ABC', -3.5)]))])\n",
      "\n",
      "OrderedDict([('Taste', OrderedDict([('A', (67.0, 66.0)), ('B', (76.75, 56.25)), ('C', (75.0, 58.0)), ('AB', (66.25, 66.75)), ('AC', (69.5, 63.5)), ('BC', (77.25, 55.75)), ('ABC', (68.25, 64.75))]))])\n"
     ]
    }
   ],
   "source": [
    "df_new, dict_R_effects, dict_R_avg_neg_and_pos = full_factorial.generate_interactions_df({'Taste': [74, 81, 71, 42, 75, 77, 80, 32]})\n",
    "\n",
    "print(df_new)\n",
    "print(\"\")\n",
    "print(dict_R_effects)\n",
    "print(\"\")\n",
    "print(dict_R_avg_neg_and_pos)"
   ]
  },
  {
   "cell_type": "markdown",
   "id": "e06a139a",
   "metadata": {},
   "source": [
    "Example 3: plot Pareto chart"
   ]
  },
  {
   "cell_type": "code",
   "execution_count": 4,
   "id": "43c87dbc",
   "metadata": {},
   "outputs": [
    {
     "name": "stdout",
     "output_type": "stream",
     "text": [
      "Taste\n"
     ]
    },
    {
     "data": {
      "image/png": "[encoded data removed]",
      "text/plain": [
       "<Figure size 720x432 with 2 Axes>"
      ]
     },
     "metadata": {},
     "output_type": "display_data"
    },
    {
     "name": "stdout",
     "output_type": "stream",
     "text": [
      "None\n"
     ]
    }
   ],
   "source": [
    "for k, v in dict_R_effects.items():\n",
    "    print(k)\n",
    "    dict_output=FullFactorial.generate_pareto_chart(v)\n",
    "\n",
    "    print(dict_output)"
   ]
  },
  {
   "cell_type": "markdown",
   "id": "43da069e",
   "metadata": {},
   "source": [
    "Example 4: perform anova analysis"
   ]
  },
  {
   "cell_type": "code",
   "execution_count": 5,
   "id": "d21636fd",
   "metadata": {},
   "outputs": [
    {
     "name": "stdout",
     "output_type": "stream",
     "text": [
      "OrderedDict([('A', -1.0), ('B', -20.5), ('C', -17.0), ('AB', 0.5), ('AC', -6.0), ('BC', -21.5), ('ABC', -3.5)])\n",
      "\n",
      "ANOVA\n",
      "-----------------------------------------\n",
      "      Source      SS  DF     MS F-value Crit_F Prob>F\n",
      "0      Model  2343.0   3  781.0    31.6   0.75  <0.01\n",
      "1          B   840.5   1  840.5    34.0   0.25  <0.01\n",
      "2          C   578.0   1  578.0    23.4   0.25  <0.01\n",
      "3         BC   924.5   1  924.5    37.4   0.25  <0.01\n",
      "4   Residual    99.0   4   24.8                      \n",
      "5  Cor Total  2442.0   7                             \n"
     ]
    }
   ],
   "source": [
    "#get just one response\n",
    "myDict=dict_R_effects[list(dict_R_effects.keys())[0]]\n",
    "\n",
    "full_factorial.perform_anova(myDict, ['C', 'B' ,'BC'])"
   ]
  },
  {
   "cell_type": "markdown",
   "id": "1ca82ca0",
   "metadata": {},
   "source": [
    "Example 5: perform coded linear regression analysis"
   ]
  },
  {
   "cell_type": "code",
   "execution_count": 6,
   "id": "fc8b265e",
   "metadata": {},
   "outputs": [
    {
     "name": "stdout",
     "output_type": "stream",
     "text": [
      "{'intercept': 66.5, 'B': -10.25, 'C': -8.5, 'BC': -10.75}\n"
     ]
    }
   ],
   "source": [
    "data = {\n",
    "    'B': [-1, -1, 1, 1, -1, -1, 1, 1],\n",
    "    'C': [-1, -1, -1, -1, 1, 1, 1, 1],\n",
    "    'BC': [1, 1, -1, -1, -1, -1, 1, 1],\n",
    "    'Y': [74, 75, 71, 80, 81, 77, 42, 32]\n",
    "}\n",
    "\n",
    "regression_results = FullFactorial.coded_linear_regression(data)\n",
    "\n",
    "print(regression_results)"
   ]
  },
  {
   "cell_type": "markdown",
   "id": "65a9c3a1",
   "metadata": {},
   "source": [
    "Example 6: plot one- and two-factor effects"
   ]
  },
  {
   "cell_type": "code",
   "execution_count": 7,
   "id": "426b5f72",
   "metadata": {},
   "outputs": [
    {
     "data": {
      "image/png": "[encoded data removed]",
      "text/plain": [
       "<Figure size 432x288 with 1 Axes>"
      ]
     },
     "metadata": {
      "needs_background": "light"
     },
     "output_type": "display_data"
    },
    {
     "data": {
      "image/png": "[encoded data removed]",
      "text/plain": [
       "<Figure size 432x288 with 1 Axes>"
      ]
     },
     "metadata": {
      "needs_background": "light"
     },
     "output_type": "display_data"
    }
   ],
   "source": [
    "data_one_factor={\n",
    "                'C': [-1, -1, -1, -1, 1, 1, 1, 1],\n",
    "                'Y': [74, 75, 71, 80, 81, 77, 42, 32]\n",
    "                }\n",
    "data_two_factors={\n",
    "                'C': [-1, -1, -1, -1, 1, 1, 1, 1],\n",
    "                'B': [-1, -1, 1, 1, -1, -1, 1, 1],\n",
    "                'Y': [74, 75, 71, 80, 81, 77, 42, 32]\n",
    "                }\n",
    "\n",
    "# Plot one factor effects\n",
    "FullFactorial.calculate_effects(data_one_factor)\n",
    "\n",
    "# Plot two factor effects\n",
    "FullFactorial.calculate_effects(data_two_factors)"
   ]
  },
  {
   "cell_type": "markdown",
   "id": "28c43e90",
   "metadata": {},
   "source": [
    "Example 7: calculate residuals and predicted values"
   ]
  },
  {
   "cell_type": "code",
   "execution_count": 8,
   "id": "57d88fd6",
   "metadata": {},
   "outputs": [
    {
     "data": {
      "image/png": "[encoded data removed]",
      "text/plain": [
       "<Figure size 432x288 with 1 Axes>"
      ]
     },
     "metadata": {
      "needs_background": "light"
     },
     "output_type": "display_data"
    }
   ],
   "source": [
    "# Coded linear equation coefficients\n",
    "equation_coefficients = {\n",
    "    'intercept': 66.5,\n",
    "    'B': -10.25,\n",
    "    'C': -8.5,\n",
    "    'BC': -10.75\n",
    "}\n",
    "\n",
    "# The corresponding coded factors and response data\n",
    "data = {\n",
    "    'B': [-1, -1, 1, 1, -1, -1, 1, 1],\n",
    "    'C': [-1, -1, -1, -1, 1, 1, 1, 1],\n",
    "    'BC': [1, 1, -1, -1, -1, -1, 1, 1],\n",
    "    'Y': [74, 75, 71, 80, 81, 77, 42, 32]\n",
    "}\n",
    "\n",
    "# Calculate residuals and predicted values\n",
    "results = FullFactorial.calculate_residuals_and_predictions(equation_coefficients, data)\n",
    "\n",
    "# Scatter plot of residuals versus predicted values\n",
    "plt.scatter(results['predictions'], results['residuals'], marker='s')\n",
    "plt.axhline(y=0, color='r', linestyle='--')\n",
    "plt.xlabel('Predicted Values')\n",
    "plt.ylabel('Residuals')\n",
    "plt.title('Residuals vs. Predicted Values')\n",
    "plt.grid()\n",
    "plt.show()"
   ]
  }
 ],
 "metadata": {
  "kernelspec": {
   "display_name": "minimal_py39",
   "language": "python",
   "name": "minimal_py39"
  },
  "language_info": {
   "codemirror_mode": {
    "name": "ipython",
    "version": 3
   },
   "file_extension": ".py",
   "mimetype": "text/x-python",
   "name": "python",
   "nbconvert_exporter": "python",
   "pygments_lexer": "ipython3",
   "version": "3.9.12"
  }
 },
 "nbformat": 4,
 "nbformat_minor": 5
}
